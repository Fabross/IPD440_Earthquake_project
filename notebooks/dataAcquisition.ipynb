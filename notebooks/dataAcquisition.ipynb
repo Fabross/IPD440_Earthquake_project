{
 "cells": [
  {
   "cell_type": "markdown",
   "metadata": {},
   "source": [
    "# Módulo de adquisición de datos\n",
    "\n",
    "Para la adquisición de datos se usará la biblioteca COMCAT.\n",
    "\n",
    "- Instalación de biblioteca COMCAT: https://github.com/usgs/libcomcat\n",
    "\n",
    "- Documentación: http://usgs.github.io/libcomcat/apidoc/libcomcat.search.html"
   ]
  },
  {
   "cell_type": "code",
   "execution_count": null,
   "metadata": {},
   "outputs": [],
   "source": []
  }
 ],
 "metadata": {
  "kernelspec": {
   "display_name": "Python 3",
   "language": "python",
   "name": "python3"
  }
 },
 "nbformat": 4,
 "nbformat_minor": 2
}
