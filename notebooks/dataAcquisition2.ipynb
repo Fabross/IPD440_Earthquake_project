{
 "cells": [
  {
   "cell_type": "markdown",
   "metadata": {},
   "source": [
    "Zonas de subducción:\n",
    "* [Global correlations between maximum magnitudes of subduction zone interface thrust earthquakes and physical parameters of subduction zonesm](https://www.sciencedirect.com/science/article/pii/S0031920113001465#b0695)"
   ]
  },
  {
   "cell_type": "code",
   "execution_count": 1,
   "metadata": {},
   "outputs": [],
   "source": [
    "# stdlib imports\n",
    "from datetime import datetime\n",
    "from time import time\n",
    "import pickle\n",
    "\n",
    "# Third party imports\n",
    "import matplotlib.pyplot as plt\n",
    "from obspy.geodetics.base import gps2dist_azimuth\n",
    "import pandas as pd\n",
    "\n",
    "# Local imports\n",
    "from libcomcat.dataframes import get_history_data_frame\n",
    "from libcomcat.search import (get_event_by_id, get_authoritative_info, search)"
   ]
  },
  {
   "cell_type": "markdown",
   "metadata": {},
   "source": [
    "# Data acquisition and formatting"
   ]
  },
  {
   "cell_type": "code",
   "execution_count": 2,
   "metadata": {},
   "outputs": [],
   "source": [
    "def date_extracter(date):\n",
    "    formatted = date.strftime(\"%d-%m-%Y (%H:%M:%S.%f)\")\n",
    "    string_subsect = formatted.split(\" \")\n",
    "    # Date formatting\n",
    "    date = string_subsect[0]\n",
    "    date = date.split(\"-\")\n",
    "    #print(date)\n",
    "    # Hour formatting\n",
    "    hour = string_subsect[1]\n",
    "    hour = hour[1:-2] # To cut the parenthesis\n",
    "    hour = hour.split(\":\")\n",
    "    hour[2] = hour[2][0:2]\n",
    "    # Proper parsing\n",
    "    parsed = list()\n",
    "    for item in date:\n",
    "        parsed.append(item)\n",
    "    for item in hour:\n",
    "        parsed.append(item)\n",
    "    #print(parsed)\n",
    "    return parsed\n",
    "    #return date\n",
    "\n",
    "def event_generator(date, lat, lon, depth, magnitude):\n",
    "    #print(date)\n",
    "    day = date[0]\n",
    "    month = date[1]\n",
    "    year = date[2]\n",
    "    hour = date[3]\n",
    "    minute = date[4]\n",
    "    second = date[5]\n",
    "    event = [year, month, day, hour, minute, second, lat, lon, depth, magnitude]\n",
    "    return event\n",
    "\n",
    "def event_extracter(events):\n",
    "    event_formatted = list()\n",
    "    for event in events:\n",
    "        #print(event)\n",
    "        for key, value in event.items():\n",
    "            #print(key, value)\n",
    "            if key == \"time\":\n",
    "                #print(\"ASDF\")\n",
    "                #print(type(value))\n",
    "                date = date_extracter(value)\n",
    "                #print(\"DATE\")\n",
    "                #print(date)\n",
    "            if key == \"latitude\":\n",
    "                lat = value\n",
    "                #print(\"LAT\")\n",
    "            if key == \"longitude\":\n",
    "                lon = value\n",
    "                #print(\"LON\")\n",
    "            if key == \"depth\":\n",
    "                depth = value\n",
    "                #print(\"DEPTH\")\n",
    "            if key == \"magnitude\":\n",
    "                magnitude = value\n",
    "                #print(\"MAG\")\n",
    "            #print(date)\n",
    "            #print(lat)\n",
    "            #print(lon)\n",
    "            #print(depth)\n",
    "            #print(magnitude)\n",
    "        ev = event_generator(date, lat, lon, depth, magnitude)\n",
    "        event_formatted.append(ev)\n",
    "    return event_formatted\n",
    "\n",
    "def do_query(bounds, minmag, maxmag):\n",
    "    data = []\n",
    "    for i in range(0,18):\n",
    "        stime = datetime(2000+i,1,1)\n",
    "        etime = datetime(2001+i,1,1)\n",
    "        eventlist = search(starttime=stime,\n",
    "                      endtime=etime,\n",
    "                      minlatitude=bounds[2],\n",
    "                      maxlatitude=bounds[3],\n",
    "                      minlongitude=bounds[0],\n",
    "                      maxlongitude=bounds[1],\n",
    "                      minmagnitude=minmag,\n",
    "                      maxmagnitude=maxmag)\n",
    "        data = data + eventlist\n",
    "    return data\n",
    "\n",
    "def event_parser(event):\n",
    "    year = int(event[0])\n",
    "    month = int(event[1])\n",
    "    day = int(event[2])\n",
    "    hour = int(event[3])\n",
    "    minute = int(event[4])\n",
    "    second = int(event[5])\n",
    "    lat = float(event[6])\n",
    "    lon = float(event[7])\n",
    "    depth = float(event[8])\n",
    "    magnitude = float(event[9])\n",
    "    date = datetime(year, month, day, hour, minute, second).strftime(\"%d-%m-%Y %H:%M:%S\")\n",
    "    #print(date)\n",
    "    ev = [date, lat, lon, depth, magnitude]\n",
    "    return ev\n",
    "    \n",
    "def second_formatting(events):\n",
    "    formatted = list()\n",
    "    count = 0\n",
    "    for event in events:\n",
    "        new_ev = list()\n",
    "        #if (count == 10):\n",
    "            #break\n",
    "        #else:\n",
    "        new_ev = event_parser(event)\n",
    "        formatted.append(new_ev)\n",
    "        #print(new_ev)\n",
    "        #count +=1\n",
    "    return formatted"
   ]
  },
  {
   "cell_type": "markdown",
   "metadata": {},
   "source": [
    "# Chile\n",
    "Query to the API"
   ]
  },
  {
   "cell_type": "code",
   "execution_count": 3,
   "metadata": {
    "scrolled": true
   },
   "outputs": [],
   "source": [
    "# VERY approximate Chile bounds\n",
    "bounds = [-86.748, -66.885, -54.858, -16.774]\n",
    "\n",
    "# magnitude range\n",
    "minmag = 3.0\n",
    "maxmag = 9.9\n",
    "\n",
    "data = do_query(bounds, minmag, maxmag)\n",
    "manipulate = [event.toDict() for event in data]\n",
    "event_formatted = event_extracter(manipulate)\n",
    "refreshed_events = second_formatting(event_formatted)\n",
    "refreshed_events.sort(key = lambda date: datetime.strptime(date[0], '%d-%m-%Y %H:%M:%S'))\n",
    "pickled_data = open(\"chile_data.pkl\", \"wb\")\n",
    "pickle.dump(refreshed_events, pickled_data)"
   ]
  },
  {
   "cell_type": "markdown",
   "metadata": {},
   "source": [
    "# Japan"
   ]
  },
  {
   "cell_type": "markdown",
   "metadata": {},
   "source": [
    "* Subregion 1:\n",
    "    - [28.466, 34.597] Latitude\n",
    "    - [128.167, 147.612] Longitude\n",
    "    \n",
    "* Subregion 2:\n",
    "    - [34.597, 41.509] Latitude\n",
    "    - [130.781, 149.326] Longitude\n",
    "    \n",
    "* Subregion 3:\n",
    "    - [41.509, 45.675] Latitude\n",
    "    - [138.955, 151.084] Longitude\n",
    "    \n",
    "Se toma de referencia el área en base a diferentes publicaciones.\n",
    "* https://www.u-tokyo.ac.jp/en/whyutokyo/wj_001.html\n",
    "* [Morphology of the subducting slab boundary in the northeastern Japan arc](https://sci-hub.tw/10.1016/s0031-9201(96)03258-x)\n",
    "* [National  Seismic  Hazard  Maps  of  Japan](http://www.eri.u-tokyo.ac.jp/BERI/pdf/IHO81304.pdf)"
   ]
  },
  {
   "cell_type": "code",
   "execution_count": 5,
   "metadata": {},
   "outputs": [],
   "source": [
    "# VERY approximate Japan bounds\n",
    "# bounds = minlong, maxlong, minlat, maxlat\n",
    "bounds_1 = [128.167, 151.084, 28.466, 34.597]\n",
    "bounds_2 = [130.781, 151.084, 34.597, 41.509]\n",
    "bounds_3 = [138.955, 151.084, 41.509, 45.675]\n",
    "\n",
    "# magnitude range\n",
    "minmag = 3.0\n",
    "maxmag = 9.9\n",
    "\n",
    "data_1 = do_query(bounds_1, minmag, maxmag)\n",
    "data_2 = do_query(bounds_2, minmag, maxmag)\n",
    "data_3 = do_query(bounds_3, minmag, maxmag)\n",
    "data = data_1 + data_2 + data_3\n",
    "    \n",
    "manipulate = [event.toDict() for event in data]\n",
    "event_formatted = event_extracter(manipulate)\n",
    "refreshed_events = second_formatting(event_formatted)\n",
    "refreshed_events.sort(key = lambda date: datetime.strptime(date[0], '%d-%m-%Y %H:%M:%S'))\n",
    "pickled_data = open(\"japan_data.pkl\", \"wb\")\n",
    "pickle.dump(refreshed_events, pickled_data)"
   ]
  },
  {
   "cell_type": "markdown",
   "metadata": {},
   "source": [
    "# Sumatra\n",
    "\n",
    "Se toma de referencia el área en base a diferentes publicaciones.\n",
    "* http://www.tectonics.caltech.edu/outreach/highlights/sumatra/why.html"
   ]
  },
  {
   "cell_type": "markdown",
   "metadata": {},
   "source": [
    "# Alaska"
   ]
  },
  {
   "cell_type": "code",
   "execution_count": null,
   "metadata": {},
   "outputs": [],
   "source": []
  }
 ],
 "metadata": {
  "kernelspec": {
   "display_name": "comcat",
   "language": "python",
   "name": "comcat"
  },
  "language_info": {
   "codemirror_mode": {
    "name": "ipython",
    "version": 3
   },
   "file_extension": ".py",
   "mimetype": "text/x-python",
   "name": "python",
   "nbconvert_exporter": "python",
   "pygments_lexer": "ipython3",
   "version": "3.8.2"
  }
 },
 "nbformat": 4,
 "nbformat_minor": 4
}
